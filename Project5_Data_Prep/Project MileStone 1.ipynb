{
 "cells": [
  {
   "cell_type": "markdown",
   "id": "1f17dfd9",
   "metadata": {},
   "source": [
    "DataSources:\n",
    "    Website:\n",
    "        Table lists the largest earthquakes by year.\n",
    "         https://en.wikipedia.org/wiki/Lists_of_earthquakes\n",
    "        Columns listed in table are Year,Magnitude,Location\tDepth (km),MMI,Notes,Deaths,Injuries,Event,Date \n",
    "         \n",
    "    API:This API allows custom searches for earthquake information using a variety of parameters.Earthquake Data provided by USGS.gov is very neat and complete. You can arrange your query based on parameters like coordinates, dates, alert level, tsunami causing or not, duration,Magnitude,latitude and logitude.  \n",
    "          https://earthquake.usgs.gov/fdsnws/event/1/ \n",
    "    \n",
    "    FlatFile:\n",
    "        The Earthquakes dataset is a very good source to study the patterns and trends in seismic (earthquake) activity at global and regional levels.\n",
    "        Datasets contain records of 782 earthquakes from 1/1/2001 to 1/1/2023. The meaning of all columns is as follows:\n",
    "\n",
    "\ttitle: title name given to the earthquake\n",
    "\tmagnitude: The magnitude of the earthquake\n",
    "\tdate_time: date and time\n",
    "\tcdi: The maximum reported intensity for the event range\n",
    "\tmmi: The maximum estimated instrumental intensity for the event\n",
    "\talert: The alert level - “green”, “yellow”, “orange”, and “red”\n",
    "\ttsunami: \"1\" for events in oceanic regions and \"0\" otherwise\n",
    "\tsig: A number describing how significant the event is. Larger numbers indicate a more significant event. This value is   determined on a number of factors, including: magnitude,maximum MMI, felt reports, and estimated impact\n",
    "\tnet: The ID of a data contributor. Identifies the network considered to be the preferred source of information for this event.\n",
    "\tnst: The total number of seismic stations used to determine earthquake location.\n",
    "\tdmin: Horizontal distance from the epicenter to the nearest station\n",
    "\tgap: The largest azimuthal gap between azimuthally adjacent stations (in degrees). In general, the smaller this number, the more reliable is the calculated horizontal position of \t\tthe earthquake. Earthquake locations in which the azimuthal gap exceeds 180 degrees typically have large location and depth uncertainties\n",
    "\tmagType: The method or algorithm used to calculate the preferred magnitude for the event\n",
    "\tdepth: The depth where the earthquake begins to rupture\n",
    "\tlatitude / longitude: coordinate system by means of which the position or location of any place on Earth's surface can be determined and described\n",
    "\tlocation: location within the country\n",
    "\tcontinent: continent of the earthquake hit country\n",
    "\tcountry: affected country\n",
    "    \n",
    "   Based on the datasets and API selected,Key focus areas include identifying the trends and patterns across various event parameters including magnitude, depth and significance of the events, type of magnitude measurement used,  and tsunami occurence etc.\n",
    "   \n",
    "Some of the common columns are listed out as magnitude,longitude,latitude,place happened and year.By these columns I need to derive some pattern among the occurence of the earthqueake happened.I want to focus on identifying the event patterns by year, by month, by day of the month, and by hour of the day and will try to identify and visualise the quake events by country and analyse the top 3 quake prone countries in detail.\n",
    "\n",
    "Planning to leverage bar diagrams, pie charts, histograms, boxplots, scatterplots to visualise and decide on the pattern.  Number missing values in the dataset are 1246.Major Challenge for this dataset is filling large number of missing values by a logical approach.\n",
    "    \n",
    "    "
   ]
  }
 ],
 "metadata": {
  "kernelspec": {
   "display_name": "Python 3 (ipykernel)",
   "language": "python",
   "name": "python3"
  },
  "language_info": {
   "codemirror_mode": {
    "name": "ipython",
    "version": 3
   },
   "file_extension": ".py",
   "mimetype": "text/x-python",
   "name": "python",
   "nbconvert_exporter": "python",
   "pygments_lexer": "ipython3",
   "version": "3.9.13"
  }
 },
 "nbformat": 4,
 "nbformat_minor": 5
}
